{
 "cells": [
  {
   "cell_type": "code",
   "execution_count": 1,
   "id": "9660e392",
   "metadata": {},
   "outputs": [],
   "source": [
    "# Declare Dependencies \n",
    "from bs4 import BeautifulSoup as bs\n",
    "import pandas as pd\n",
    "import requests\n",
    "from splinter import Browser\n",
    "from webdriver_manager.chrome import ChromeDriverManager"
   ]
  },
  {
   "cell_type": "code",
   "execution_count": 2,
   "id": "0469fba6",
   "metadata": {},
   "outputs": [
    {
     "name": "stderr",
     "output_type": "stream",
     "text": [
      "\n",
      "\n",
      "====== WebDriver manager ======\n",
      "Current google-chrome version is 96.0.4664\n",
      "Get LATEST chromedriver version for 96.0.4664 google-chrome\n",
      "Driver [/Users/timmyreynolds/.wdm/drivers/chromedriver/mac64/96.0.4664.45/chromedriver] found in cache\n"
     ]
    }
   ],
   "source": [
    "executable_path = {'executable_path': ChromeDriverManager().install()}\n",
    "browser = Browser('chrome', **executable_path, headless=False)"
   ]
  },
  {
   "cell_type": "code",
   "execution_count": null,
   "id": "c460f778",
   "metadata": {},
   "outputs": [],
   "source": [
    "url = \"https://redplanetscience.com/\"\n",
    "browser.visit(url)"
   ]
  },
  {
   "cell_type": "code",
   "execution_count": 5,
   "id": "cfbdbbc3",
   "metadata": {},
   "outputs": [],
   "source": [
    "html = browser.html\n",
    "soup = bs(html, \"html.parser\")"
   ]
  },
  {
   "cell_type": "code",
   "execution_count": null,
   "id": "8f44482b",
   "metadata": {},
   "outputs": [],
   "source": [
    "news_article = soup.find_all(\"div\", class_=\"content_title\")[0]\n",
    "news_article_title = news_article.text\n",
    "news_article_title"
   ]
  },
  {
   "cell_type": "code",
   "execution_count": null,
   "id": "ae518db4",
   "metadata": {},
   "outputs": [],
   "source": [
    "teaser = soup.find_all(\"div\", class_=\"article_teaser_body\")[0]\n",
    "article_teaser = teaser.text\n",
    "article_teaser"
   ]
  },
  {
   "cell_type": "code",
   "execution_count": null,
   "id": "653046d3",
   "metadata": {},
   "outputs": [],
   "source": [
    "html = browser.html\n",
    "soup = bs(html, \"html.parser\")"
   ]
  },
  {
   "cell_type": "code",
   "execution_count": null,
   "id": "4e2bcf00",
   "metadata": {},
   "outputs": [],
   "source": [
    "images = soup.find('img', class_=\"headerimage fade-in\")\n",
    "feature_pic = (images['src'])\n",
    "feature_pic"
   ]
  },
  {
   "cell_type": "code",
   "execution_count": null,
   "id": "26a64a22",
   "metadata": {},
   "outputs": [],
   "source": [
    "feature_pic_link = url + feature_pic\n",
    "print(feature_pic_link)"
   ]
  },
  {
   "cell_type": "code",
   "execution_count": null,
   "id": "07afe26a",
   "metadata": {},
   "outputs": [],
   "source": []
  },
  {
   "cell_type": "code",
   "execution_count": null,
   "id": "7c3d1162",
   "metadata": {},
   "outputs": [],
   "source": [
    "url = 'https://galaxyfacts-mars.com/'"
   ]
  },
  {
   "cell_type": "code",
   "execution_count": null,
   "id": "9428bd37",
   "metadata": {},
   "outputs": [],
   "source": [
    "tables = pd.read_html(url)\n",
    "tables"
   ]
  },
  {
   "cell_type": "code",
   "execution_count": null,
   "id": "e3ecfac4",
   "metadata": {},
   "outputs": [],
   "source": [
    "type(tables)"
   ]
  },
  {
   "cell_type": "code",
   "execution_count": null,
   "id": "5a5f1705",
   "metadata": {},
   "outputs": [],
   "source": [
    "df = tables[0]\n",
    "earth = df[2]\n",
    "mars = df[1]\n",
    "descriptors = df[0]"
   ]
  },
  {
   "cell_type": "code",
   "execution_count": null,
   "id": "4df09f85",
   "metadata": {},
   "outputs": [],
   "source": [
    "table_df = pd.DataFrame({\"Description\": descriptors, \"Mars\": mars, \"Earth\": earth})\n",
    "table_df"
   ]
  },
  {
   "cell_type": "code",
   "execution_count": null,
   "id": "ed146667",
   "metadata": {},
   "outputs": [],
   "source": [
    "table_df.set_index('Description', inplace=True)\n",
    "table_df"
   ]
  },
  {
   "cell_type": "code",
   "execution_count": null,
   "id": "95ee4f3f",
   "metadata": {},
   "outputs": [],
   "source": []
  },
  {
   "cell_type": "code",
   "execution_count": null,
   "id": "4321386e",
   "metadata": {},
   "outputs": [],
   "source": [
    "url = \"https://marshemispheres.com/\"\n",
    "browser.visit(url)"
   ]
  },
  {
   "cell_type": "code",
   "execution_count": null,
   "id": "c7e8a186",
   "metadata": {},
   "outputs": [],
   "source": [
    "html = browser.html\n",
    "soup = bs(html, \"html.parser\")"
   ]
  },
  {
   "cell_type": "code",
   "execution_count": null,
   "id": "4e8048d6",
   "metadata": {},
   "outputs": [],
   "source": [
    "hemisphere_image_url = []\n",
    "\n",
    "for i in range(4):\n",
    "    \n",
    "        hemisphere_dict = {}\n",
    "    \n",
    "        browser.find_by_css(\"a.product-item h3\")[i].click()\n",
    "        hemisphere_dict[\"title\"] = browser.find_by_css(\"h2.title\").text\n",
    "        \n",
    "        html = browser.html\n",
    "        soup = bs(html, \"html.parser\")\n",
    "        \n",
    "        sample_text = browser.links.find_by_partial_text(\"Sample\")\n",
    "        hemisphere_dict[\"img_url\"] = sample_text[\"href\"]\n",
    "        \n",
    "        hemisphere_image_url.append(hemisphere_dict)\n",
    "        browser.back()\n",
    "        \n",
    "        \n",
    "print(hemisphere_image_url)"
   ]
  },
  {
   "cell_type": "code",
   "execution_count": null,
   "id": "e34dead6",
   "metadata": {},
   "outputs": [],
   "source": [
    "quit()"
   ]
  },
  {
   "cell_type": "code",
   "execution_count": null,
   "id": "73750983",
   "metadata": {},
   "outputs": [],
   "source": []
  },
  {
   "cell_type": "code",
   "execution_count": null,
   "id": "88e607cf",
   "metadata": {},
   "outputs": [],
   "source": []
  },
  {
   "cell_type": "code",
   "execution_count": null,
   "id": "3c626349",
   "metadata": {},
   "outputs": [],
   "source": []
  }
 ],
 "metadata": {
  "kernelspec": {
   "display_name": "Python 3",
   "language": "python",
   "name": "python3"
  },
  "language_info": {
   "codemirror_mode": {
    "name": "ipython",
    "version": 3
   },
   "file_extension": ".py",
   "mimetype": "text/x-python",
   "name": "python",
   "nbconvert_exporter": "python",
   "pygments_lexer": "ipython3",
   "version": "3.8.8"
  }
 },
 "nbformat": 4,
 "nbformat_minor": 5
}
